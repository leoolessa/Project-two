{
 "cells": [
  {
   "cell_type": "markdown",
   "metadata": {},
   "source": [
    "# Goals:\n",
    "\n",
    "    - check what is the top 10 popular characters in the last two decades in the comics, cinema and animation."
   ]
  },
  {
   "cell_type": "code",
   "execution_count": 1,
   "metadata": {},
   "outputs": [
    {
     "name": "stderr",
     "output_type": "stream",
     "text": [
      "C:\\Users\\leona\\AppData\\Local\\Temp\\ipykernel_20380\\3848940922.py:1: DeprecationWarning: \n",
      "Pyarrow will become a required dependency of pandas in the next major release of pandas (pandas 3.0),\n",
      "(to allow more performant data types, such as the Arrow string type, and better interoperability with other libraries)\n",
      "but was not found to be installed on your system.\n",
      "If this would cause problems for you,\n",
      "please provide us feedback at https://github.com/pandas-dev/pandas/issues/54466\n",
      "        \n",
      "  import pandas as pd\n"
     ]
    }
   ],
   "source": [
    "import pandas as pd\n",
    "import requests\n",
    "import json\n",
    "import os\n",
    "from bs4 import BeautifulSoup \n",
    "import re\n",
    "from marvel import Marvel\n",
    "from keys import PUBLIC_KEY, PRIVATE_KEY"
   ]
  },
  {
   "cell_type": "markdown",
   "metadata": {},
   "source": [
    "# Questions\n",
    "    1. Wich Avenger has more comics\n",
    "    2. Wich Avenger has apperded more in stories\n",
    "    3. Wich Avenger is more popular by the number of data collected"
   ]
  },
  {
   "cell_type": "markdown",
   "metadata": {},
   "source": [
    "# Characters\n",
    "    - dataframe:\n",
    "        - id, name\n",
    "        - comics: \n",
    "            -available\n",
    "        - series:\n",
    "            - available    \n",
    "        - events:\n",
    "            - available\n",
    "        - stories:\n",
    "            - available\n"
   ]
  },
  {
   "cell_type": "code",
   "execution_count": 2,
   "metadata": {},
   "outputs": [],
   "source": [
    "marvel = Marvel(PUBLIC_KEY= PUBLIC_KEY, PRIVATE_KEY=PRIVATE_KEY)"
   ]
  },
  {
   "cell_type": "code",
   "execution_count": 3,
   "metadata": {},
   "outputs": [],
   "source": [
    "characters = marvel.characters"
   ]
  },
  {
   "cell_type": "code",
   "execution_count": 4,
   "metadata": {},
   "outputs": [],
   "source": [
    "avengers_characters = [\n",
    "    \"Captain America\",\n",
    "    \"Iron Man\",\n",
    "    \"Thor\",\n",
    "    \"Hulk\",\n",
    "    \"Black Widow\",\n",
    "    \"Hawkeye\",\n",
    "    \"Ant-Man\",\n",
    "    \"Wasp\",\n",
    "    \"Scarlet Witch\",\n",
    "    \"Vision\",\n",
    "    \"Black Panther\",\n",
    "    \"Captain Marvel\",\n",
    "    \"War Machine\",\n",
    "    \"Falcon\",\n",
    "    \"Ms. Marvel\",\n",
    "    \"Doctor Strange\",\n",
    "    \"Luke Cage\",\n",
    "    \"Jessica Jones\",\n",
    "    \"Daredevil\",\n",
    "    \"Spider-Man\",\n",
    "    \"Wolverine\",\n",
    "    \"Storm\",\n",
    "    \"Ant-Man\",\n",
    "    \"She-Hulk\",\n",
    "    \"Phoenix\",\n",
    "    \"Spider-Man\",\n",
    "    \"Ironheart\",\n",
    "    \"Iron Patriot\",\n",
    "    \"The Punisher\",\n",
    "]\n",
    "\n"
   ]
  },
  {
   "cell_type": "code",
   "execution_count": 41,
   "metadata": {},
   "outputs": [
    {
     "data": {
      "text/html": [
       "<div>\n",
       "<style scoped>\n",
       "    .dataframe tbody tr th:only-of-type {\n",
       "        vertical-align: middle;\n",
       "    }\n",
       "\n",
       "    .dataframe tbody tr th {\n",
       "        vertical-align: top;\n",
       "    }\n",
       "\n",
       "    .dataframe thead th {\n",
       "        text-align: right;\n",
       "    }\n",
       "</style>\n",
       "<table border=\"1\" class=\"dataframe\">\n",
       "  <thead>\n",
       "    <tr style=\"text-align: right;\">\n",
       "      <th></th>\n",
       "      <th>ID</th>\n",
       "      <th>Name</th>\n",
       "      <th>Comics</th>\n",
       "      <th>Series</th>\n",
       "      <th>Events</th>\n",
       "      <th>Stories</th>\n",
       "    </tr>\n",
       "  </thead>\n",
       "  <tbody>\n",
       "  </tbody>\n",
       "</table>\n",
       "</div>"
      ],
      "text/plain": [
       "Empty DataFrame\n",
       "Columns: [ID, Name, Comics, Series, Events, Stories]\n",
       "Index: []"
      ]
     },
     "execution_count": 41,
     "metadata": {},
     "output_type": "execute_result"
    }
   ],
   "source": [
    "# criando dataframe \n",
    "chacter_df = pd.DataFrame(columns=['ID', 'Name', 'Comics', 'Series', 'Events', 'Stories'])\n",
    "chacter_df"
   ]
  },
  {
   "cell_type": "code",
   "execution_count": 85,
   "metadata": {},
   "outputs": [
    {
     "name": "stdout",
     "output_type": "stream",
     "text": [
      "1009368 Iron Man\n"
     ]
    },
    {
     "ename": "TypeError",
     "evalue": "string indices must be integers, not 'str'",
     "output_type": "error",
     "traceback": [
      "\u001b[1;31m---------------------------------------------------------------------------\u001b[0m",
      "\u001b[1;31mTypeError\u001b[0m                                 Traceback (most recent call last)",
      "Cell \u001b[1;32mIn[85], line 8\u001b[0m\n\u001b[0;32m      6\u001b[0m     \u001b[38;5;28mprint\u001b[39m (char[\u001b[38;5;124m'\u001b[39m\u001b[38;5;124mid\u001b[39m\u001b[38;5;124m'\u001b[39m], char[\u001b[38;5;124m'\u001b[39m\u001b[38;5;124mname\u001b[39m\u001b[38;5;124m'\u001b[39m])\n\u001b[0;32m      7\u001b[0m \u001b[38;5;28;01mfor\u001b[39;00m comics \u001b[38;5;129;01min\u001b[39;00m char[\u001b[38;5;124m'\u001b[39m\u001b[38;5;124mcomics\u001b[39m\u001b[38;5;124m'\u001b[39m]\u001b[38;5;241m.\u001b[39mkeys():\n\u001b[1;32m----> 8\u001b[0m     list_char\u001b[38;5;241m.\u001b[39mappend({\u001b[38;5;124m'\u001b[39m\u001b[38;5;124mComics\u001b[39m\u001b[38;5;124m'\u001b[39m: comics[\u001b[38;5;124m'\u001b[39m\u001b[38;5;124mavailable\u001b[39m\u001b[38;5;124m'\u001b[39m]})\n\u001b[0;32m      9\u001b[0m     \u001b[38;5;28mprint\u001b[39m(\u001b[38;5;124mf\u001b[39m\u001b[38;5;124m'\u001b[39m\u001b[38;5;132;01m{\u001b[39;00mk\u001b[38;5;132;01m}\u001b[39;00m\u001b[38;5;124m: \u001b[39m\u001b[38;5;132;01m{\u001b[39;00mcomics\u001b[38;5;132;01m}\u001b[39;00m\u001b[38;5;124m'\u001b[39m)\n\u001b[0;32m     10\u001b[0m     \u001b[38;5;28;01mfor\u001b[39;00m k, series \u001b[38;5;129;01min\u001b[39;00m char[\u001b[38;5;124m'\u001b[39m\u001b[38;5;124mseries\u001b[39m\u001b[38;5;124m'\u001b[39m]\u001b[38;5;241m.\u001b[39mitems():\n",
      "\u001b[1;31mTypeError\u001b[0m: string indices must be integers, not 'str'"
     ]
    }
   ],
   "source": [
    "# teste para coletar data do personagem\n",
    "list_char = []\n",
    "avengres = characters.all(name='iron man')['data']['results']\n",
    "for char in avengres:\n",
    "    list_char.append({'ID':char['id'] , 'Name':char['name'],})\n",
    "    print (char['id'], char['name'])\n",
    "for comics in char['comics'].keys():\n",
    "    list_char.append({'Comics': comics['available']})\n",
    "    print(f'{k}: {comics}')\n",
    "    for k, series in char['series'].items():\n",
    "        print(f'{k}: {series}')\n",
    "    for k, events in char[\"events\"].items():\n",
    "        print(f'{k}: {events}')\n",
    "    for k, stories in char['stories'].items():\n",
    "        print(f'{k}: {stories}')\n",
    "list_char"
   ]
  },
  {
   "cell_type": "code",
   "execution_count": 40,
   "metadata": {},
   "outputs": [
    {
     "data": {
      "text/html": [
       "<div>\n",
       "<style scoped>\n",
       "    .dataframe tbody tr th:only-of-type {\n",
       "        vertical-align: middle;\n",
       "    }\n",
       "\n",
       "    .dataframe tbody tr th {\n",
       "        vertical-align: top;\n",
       "    }\n",
       "\n",
       "    .dataframe thead th {\n",
       "        text-align: right;\n",
       "    }\n",
       "</style>\n",
       "<table border=\"1\" class=\"dataframe\">\n",
       "  <thead>\n",
       "    <tr style=\"text-align: right;\">\n",
       "      <th></th>\n",
       "      <th>ID</th>\n",
       "      <th>Name</th>\n",
       "      <th>Comics</th>\n",
       "      <th>Series</th>\n",
       "      <th>Events</th>\n",
       "      <th>Stories</th>\n",
       "    </tr>\n",
       "  </thead>\n",
       "  <tbody>\n",
       "  </tbody>\n",
       "</table>\n",
       "</div>"
      ],
      "text/plain": [
       "Empty DataFrame\n",
       "Columns: [ID, Name, Comics, Series, Events, Stories]\n",
       "Index: []"
      ]
     },
     "execution_count": 40,
     "metadata": {},
     "output_type": "execute_result"
    }
   ],
   "source": []
  },
  {
   "cell_type": "code",
   "execution_count": null,
   "metadata": {},
   "outputs": [],
   "source": []
  }
 ],
 "metadata": {
  "kernelspec": {
   "display_name": "base",
   "language": "python",
   "name": "python3"
  },
  "language_info": {
   "codemirror_mode": {
    "name": "ipython",
    "version": 3
   },
   "file_extension": ".py",
   "mimetype": "text/x-python",
   "name": "python",
   "nbconvert_exporter": "python",
   "pygments_lexer": "ipython3",
   "version": "3.11.5"
  }
 },
 "nbformat": 4,
 "nbformat_minor": 2
}
